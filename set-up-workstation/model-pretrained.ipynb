{
 "cells": [
  {
   "cell_type": "markdown",
   "id": "0bed2147",
   "metadata": {},
   "source": [
    "#### Import necessary library for Modelling\n"
   ]
  },
  {
   "cell_type": "code",
   "execution_count": 2,
   "id": "36933dc2",
   "metadata": {},
   "outputs": [],
   "source": [
    "import torch\n",
    "import timm"
   ]
  },
  {
   "cell_type": "code",
   "execution_count": null,
   "id": "3e84f78c",
   "metadata": {},
   "outputs": [],
   "source": [
    "models_to_save = [\n",
    "    'efficientnet_b0',\n",
    "    'mobilenetv3_large_100',\n",
    "    'resnet18',\n",
    "    'convnext_tiny',\n",
    "    'swin_tiny_patch4_window7_224',\n",
    "    'vit_base_patch16_224',\n",
    "    'convnext_base',\n",
    "    \"densenet121\",\n",
    "]\n",
    "\n",
    "for name in models_to_save:\n",
    "    print(f\"🔹 Downloading & saving {name}...\")\n",
    "    model = timm.create_model(name, pretrained=True)\n",
    "    torch.save(model.state_dict(), f\"model/{name}_pretrained.pth\")\n",
    "\n",
    "print(\"All Pretrained models saved locally!\")\n"
   ]
  }
 ],
 "metadata": {
  "kernelspec": {
   "display_name": "ds-kit",
   "language": "python",
   "name": "python3"
  },
  "language_info": {
   "codemirror_mode": {
    "name": "ipython",
    "version": 3
   },
   "file_extension": ".py",
   "mimetype": "text/x-python",
   "name": "python",
   "nbconvert_exporter": "python",
   "pygments_lexer": "ipython3",
   "version": "3.11.13"
  }
 },
 "nbformat": 4,
 "nbformat_minor": 5
}
