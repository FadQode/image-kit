{
 "cells": [
  {
   "cell_type": "markdown",
   "id": "0bed2147",
   "metadata": {},
   "source": [
    "#### Import necessary library for Modelling\n"
   ]
  },
  {
   "cell_type": "code",
   "execution_count": 2,
   "id": "36933dc2",
   "metadata": {},
   "outputs": [],
   "source": [
    "import torch\n",
    "import timm"
   ]
  },
  {
   "cell_type": "markdown",
   "id": "b5b75828",
   "metadata": {},
   "source": [
    "| Domain                                | Dataset Contoh            | Model yang Umumnya Unggul                            | Penjelasan                                 |\n",
    "| :------------------------------------ | :------------------------ | :--------------------------------------------------- | :----------------------------------------- |\n",
    "| 🌿 **Pertanian / Tanaman**            | PlantVillage, LeafDisease | `EfficientNet-B0` / `ResNet18` / `Hybrid Eff+ResNet` | Detil tekstur & bentuk daun                |\n",
    "| 🩻 **Medis (X-Ray, MRI)**             | COVIDx, CheXpert          | `EfficientNet-B0/B2` + Custom CNN Head               | Perlu fokus ke tekstur lembut & tepi halus |\n",
    "| 🛰️ **Citra Satelit / Aerial**        | EuroSAT, DeepGlobe        | `ResNet50` / `Swin-Tiny` / `ResNet+ViT`              | Butuh konteks spasial besar                |\n",
    "| 🧍 **Human/Face Emotion**             | FER+, AffectNet           | `MobileNetV3-Large` / `EfficientNet-B0`              | Detil ekspresi halus, data kecil           |\n",
    "| 🧾 **Dokumen / Teks Visual**          | OCR dataset               | `ResNet18` / `ConvNeXt`                              | Fokus ke pola huruf & garis lurus          |\n",
    "| 🐶 **Object / Animal Classification** | ImageNet-like             | `EfficientNetV2-S` / `ConvNeXt-Tiny`                 | Tekstur & bentuk seimbang                  |\n",
    "| 🧬 **Microscopy / Bio Imaging**       | CellImage, BioID          | `EfficientNet-B0` / `DenseNet121`                    | Pola halus, struktur mikro                 |\n"
   ]
  },
  {
   "cell_type": "code",
   "execution_count": null,
   "id": "3e84f78c",
   "metadata": {},
   "outputs": [],
   "source": [
    "models_to_save = [\n",
    "    # 🌍 --- GENERAL FEATURE EXTRACTORS (CNN KLASIK & EFISIEN) ---\n",
    "    \"resnet18\",                # CNN klasik (general feature extractor, cepat, ringan)\n",
    "    \"resnet50\",                # Lebih dalam, kuat buat domain natural/general\n",
    "    \"mobilenetv3_large_100\",   # Super ringan, cocok buat mobile/edge deployment\n",
    "    \"efficientnet_b0\",         # Efisien & kuat untuk dataset kecil–menengah\n",
    "    \"efficientnet_b3\",         # Lebih akurat, cocok buat dataset fine-grained dengan resolusi lebih tinggi\n",
    "    \"densenet121\",             # Rich feature connectivity, bagus buat transfer learning & domain non-natural\n",
    "    \"regnety_008\",             # Balanced antara efisiensi & akurasi (modern CNN by Meta)\n",
    "    \n",
    "    # ⚙️ --- MODERN CNN BACKBONES (General + Fine-grained) ---\n",
    "    \"convnext_tiny\",           # CNN modern berbasis transformer principle, bagus buat general/fine-grained\n",
    "    \"convnext_small\",          # Versi sedang, lebih kuat untuk high-res dataset\n",
    "    \"convnext_base\",           # Lebih besar, kuat untuk representasi kaya\n",
    "    \"efficientnetv2_s\",        # CNN generasi baru (Google), efisien untuk training fine-grained\n",
    "    \n",
    "    # 🧩 --- TRANSFORMER-BASED MODELS (SEMANTIC + FINE-GRAINED) ---\n",
    "    \"vit_base_patch16_224\",    # Vision Transformer (ViT) klasik, bagus untuk analisis semantik & fine-grained\n",
    "    \"deit_base_patch16_224\",   # Data-efficient ViT, bagus untuk dataset kecil (general purpose transformer)\n",
    "    \"swin_tiny_patch4_window7_224\", # Hierarchical Transformer, bagus untuk struktur spasial kompleks (scene understanding)\n",
    "    \"beit_base_patch16_224\",   # Self-supervised ViT (BEiT), unggul dalam feature generalization & fine-grained detail\n",
    "    \n",
    "    # 🧠 --- ADVANCED / VISION-LANGUAGE / SELF-SUPERVISED ---\n",
    "    \"clip_vit_base_patch16_224\",  # Vision-language (CLIP, LAION-400M), bagus untuk semantic embedding / auto-labeling\n",
    "    \"vit_small_patch16_224_dino\", # Self-supervised (DINO), unggul untuk feature clustering & unsupervised labeling\n",
    "]\n",
    "\n",
    "for name in models_to_save:\n",
    "    print(f\"🔹 Downloading & saving {name}...\")\n",
    "    model = timm.create_model(name, pretrained=True)\n",
    "    torch.save(model.state_dict(), f\"model/{name}_pretrained.pth\")\n",
    "\n",
    "print(\"All Pretrained models saved locally!\")\n"
   ]
  },
  {
   "cell_type": "code",
   "execution_count": null,
   "id": "f09f1e77",
   "metadata": {},
   "outputs": [],
   "source": []
  }
 ],
 "metadata": {
  "kernelspec": {
   "display_name": "ds-kit",
   "language": "python",
   "name": "python3"
  },
  "language_info": {
   "codemirror_mode": {
    "name": "ipython",
    "version": 3
   },
   "file_extension": ".py",
   "mimetype": "text/x-python",
   "name": "python",
   "nbconvert_exporter": "python",
   "pygments_lexer": "ipython3",
   "version": "3.11.13"
  }
 },
 "nbformat": 4,
 "nbformat_minor": 5
}
