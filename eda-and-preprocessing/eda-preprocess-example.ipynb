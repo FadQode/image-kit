{
 "cells": [
  {
   "cell_type": "code",
   "execution_count": null,
   "id": "c68604db",
   "metadata": {},
   "outputs": [],
   "source": [
    "#### add width, height and aspect ratio columns to dataframe #####\n",
    "\n",
    "width, heights, ratio = [], [], []\n",
    "\n",
    "for path in tqdm(df_train[\"filename\"], desc = \"Analyzing image sizes\"):\n",
    "    try:\n",
    "        with Image.open(os.path.join(train_img, path)) as img:\n",
    "            w, h = img.size\n",
    "            width.append(w)\n",
    "            heights.append(h)\n",
    "            ratio.append(w / h)\n",
    "    except:\n",
    "        print(f\"Image {os.path.join(train_img, path)} cant be opened adding null data\")\n",
    "        widths.append(None)\n",
    "        heights.append(None)\n",
    "        ratios.append(None)\n",
    "df_train[\"width\"] = width\n",
    "df_train[\"heights\"] = heights\n",
    "df_train[\"ratio\"] = ratio\n",
    "\n",
    "df_train[['width', 'heights', 'ratio']].head()"
   ]
  },
  {
   "cell_type": "code",
   "execution_count": null,
   "id": "48e13030",
   "metadata": {},
   "outputs": [],
   "source": [
    "#### Stats Per Class ####\n",
    "def image_stats(df, sample_size = 200, image_col=\"filename\", data_dir = None, per_class = False, label_col = 'genus'):\n",
    "    sample_df = df.sample(min(sample_size, len(df))).reset_index(drop=True)\n",
    "    mean_rgb, std_rgb = [], []\n",
    "    per_class_stats = {}\n",
    "\n",
    "    for _, row in tqdm (sample_df.iterrows(), total = len(sample_df), desc=\"computing RGB stats\"):\n",
    "        path = row[image_col]\n",
    "        label = row[label_col] if label_col in row else unknown\n",
    "        if data_dir is not None:\n",
    "            path = os.path.join(data_dir, path)\n",
    "        img = cv2.imread(path)\n",
    "        if img is None:\n",
    "            continue\n",
    "        img = cv2.cvtColor(img, cv2.COLOR_BGR2RGB) / 255.0\n",
    "\n",
    "        mean = img.mean(axis=(0, 1))\n",
    "        std = img.std(axis=(0, 1))\n",
    "\n",
    "        mean_rgb.append(mean)\n",
    "        std_rgb.append(std)\n",
    "\n",
    "        if per_class:\n",
    "            if label not in per_class_stats:\n",
    "                per_class_stats[label] = {\"mean\": [], \"std\": []}\n",
    "            per_class_stats[label][\"mean\"].append(mean)\n",
    "            per_class_stats[label][\"std\"].append(std)\n",
    "\n",
    "    mean_rgb = np.mean(mean_rgb, axis = 0)\n",
    "    std_rgb = np.mean(std_rgb, axis = 0)\n",
    "\n",
    "    if per_class:\n",
    "        for cls in per_class_stats:\n",
    "            per_class_stats[cls][\"mean\"] = np.mean(per_class_stats[cls][\"mean\"], axis = 0)\n",
    "            per_class_stats[cls][\"std\"] = np.mean(per_class_stats[cls][\"std\"], axis = 0)\n",
    "        return mean_rgb, std_rgb, per_class_stats\n",
    "    else:\n",
    "        return mean_rgb, std_rgb"
   ]
  },
  {
   "cell_type": "code",
   "execution_count": null,
   "id": "8f75f898",
   "metadata": {},
   "outputs": [],
   "source": [
    "mean_rgb, std_rgb, per_class_stats = image_stats(df_train, data_dir = train_img, per_class = True)\n",
    "\n",
    "print(f\"Global mean RGB: {mean_rgb}\")\n",
    "print(f\"Global std RGB: {std_rgb}\")\n",
    "for cls, stats in per_class_stats.items():\n",
    "    print(f\"{cls}: Mean {stats[\"mean\"]}, Std {stats[\"std\"]}\")   "
   ]
  }
 ],
 "metadata": {
  "language_info": {
   "name": "python"
  }
 },
 "nbformat": 4,
 "nbformat_minor": 5
}
