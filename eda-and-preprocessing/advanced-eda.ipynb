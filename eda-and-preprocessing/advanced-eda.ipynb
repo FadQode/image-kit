{
 "cells": [
  {
   "cell_type": "code",
   "execution_count": null,
   "id": "cd054bc0",
   "metadata": {},
   "outputs": [],
   "source": [
    "import os\n",
    "import cv2\n",
    "import numpy as np\n",
    "import pandas as pd\n",
    "from tqdm import tqdm\n",
    "import matplotlib.pyplot as plt\n",
    "import seaborn as sns\n",
    "from skimage.feature import graycomatrix, graycoprops\n",
    "\n",
    "from skimage import io, color, feature, exposure\n",
    "from skimage.util import img_as_ubyte\n",
    "from sklearn.cluster import KMeans"
   ]
  },
  {
   "cell_type": "code",
   "execution_count": null,
   "id": "abbde63b",
   "metadata": {},
   "outputs": [],
   "source": [
    "##### A. Brightness & Kontras###\n",
    "def brightness_contrast(img):\n",
    "    gray = cv2.cvtColor(img, cv2.COLOR_BGR2GRAY)\n",
    "    brightness = np.mean(gray)\n",
    "    contrast = np.std(gray)\n",
    "    return brightness, contrast"
   ]
  },
  {
   "cell_type": "code",
   "execution_count": null,
   "id": "81541356",
   "metadata": {},
   "outputs": [],
   "source": [
    "######## Blur / Focus Level (Variance of Laplacian)####\n",
    "\n",
    "def blur_score(img):\n",
    "    gray = cv2.cvtColor(img, cv2.COLOR_BGR2GRAY)\n",
    "    return cv2.Laplacian(gray, cv2.CV_64F).var()"
   ]
  },
  {
   "cell_type": "code",
   "execution_count": null,
   "id": "c8185eb6",
   "metadata": {},
   "outputs": [],
   "source": [
    "########C. Edge Density (Canny Edge Detector)####\n",
    "\n",
    "def edge_density(img):\n",
    "    gray = cv2.cvtColor(img, cv2.COLOR_BGR2GRAY)\n",
    "    edges = cv2.Canny(gray, 100, 200)\n",
    "    return np.sum(edges > 0) / edges.size"
   ]
  },
  {
   "cell_type": "code",
   "execution_count": null,
   "id": "b3f1704b",
   "metadata": {},
   "outputs": [],
   "source": [
    "\n",
    "######## D. Entropy (skimage)####\n",
    "from skimage.measure import shannon_entropy\n",
    "def image_entropy(img):\n",
    "    gray = color.rgb2gray(img)\n",
    "    return shannon_entropy(gray)"
   ]
  },
  {
   "cell_type": "code",
   "execution_count": null,
   "id": "09b881d5",
   "metadata": {},
   "outputs": [],
   "source": [
    "##### E. GLCM (Gray Level Co-occurrence Matrix) Texture Contrast######\n",
    "\n",
    "def glcm_contrast(img):\n",
    "    gray = cv2.cvtColor(img, cv2.COLOR_BGR2GRAY)\n",
    "    gray = img_as_ubyte(gray)\n",
    "    glcm = graycomatrix(gray, distances=[1], angles=[0], symmetric=True, normed=True)\n",
    "    return graycoprops(glcm, 'contrast')[0,0]"
   ]
  },
  {
   "cell_type": "code",
   "execution_count": null,
   "id": "c160ec5b",
   "metadata": {},
   "outputs": [],
   "source": [
    "######## F. Dominant Color (KMeans)####\n",
    "\n",
    "def dominant_color(img, k=3):\n",
    "    img_rgb = cv2.cvtColor(img, cv2.COLOR_BGR2RGB)\n",
    "    img_flat = img_rgb.reshape(-1, 3)\n",
    "    km = KMeans(n_clusters=k, n_init=10)\n",
    "    km.fit(img_flat)\n",
    "    return km.cluster_centers_[np.argmax(np.bincount(km.labels_))]"
   ]
  },
  {
   "cell_type": "code",
   "execution_count": null,
   "id": "8ad9ac09",
   "metadata": {},
   "outputs": [],
   "source": [
    "\n",
    "######## Calculate per Image ####\n",
    "features = []\n",
    "for i, row in tqdm(df.iterrows(), total=len(df)):\n",
    "    img = cv2.imread(row['path'])\n",
    "    if img is None:\n",
    "        continue\n",
    "    img = cv2.resize(img, (224,224))\n",
    "    bright, contrast = brightness_contrast(img)\n",
    "    blur = blur_score(img)\n",
    "    edge = edge_density(img)\n",
    "    entropy = image_entropy(cv2.cvtColor(img, cv2.COLOR_BGR2RGB))\n",
    "    glcm_c = glcm_contrast(img)\n",
    "    dom_col = dominant_color(img)\n",
    "    \n",
    "    features.append({\n",
    "        'label': row['label'],\n",
    "        'brightness': bright,\n",
    "        'contrast': contrast,\n",
    "        'blur': blur,\n",
    "        'edges': edge,\n",
    "        'entropy': entropy,\n",
    "        'texture_contrast': glcm_c,\n",
    "        'dom_R': dom_col[0],\n",
    "        'dom_G': dom_col[1],\n",
    "        'dom_B': dom_col[2]\n",
    "    })\n",
    "\n",
    "eda_df = pd.DataFrame(features)\n",
    "eda_df.head()\n"
   ]
  },
  {
   "cell_type": "markdown",
   "id": "b98a66ed",
   "metadata": {},
   "source": [
    "| 🔢 Langkah                                         | 🎯 Tujuan / Apa yang Dicek                            | 🔍 Insight yang Didapat                                                                                        | ⚙️ Aksi / Tindakan yang Direkomendasikan                                                                                                                        |\n",
    "| -------------------------------------------------- | ----------------------------------------------------- | -------------------------------------------------------------------------------------------------------------- | --------------------------------------------------------------------------------------------------------------------------------------------------------------- |\n",
    "| **1. Distribusi Label (Bar Plot)**                 | Melihat keseimbangan jumlah gambar per kelas          | - Kelas tidak seimbang → potensi *class bias* saat training                                                    | - Tambahkan **augmentasi ekstra** pada kelas minoritas  <br> - Atau gunakan **class weights** di loss function                                                  |\n",
    "| **2. Preview Sample Gambar per Kelas**             | Memverifikasi label benar, kualitas gambar normal     | - Ada label salah, gambar rusak, atau duplikasi                                                                | - Hapus / perbaiki gambar salah label  <br> - Bersihkan dataset sebelum training                                                                                |\n",
    "| **3. Ukuran & Aspect Ratio Gambar**                | Mengecek variasi resolusi dan proporsi gambar         | - Gambar memiliki ukuran sangat bervariasi → model sulit generalisasi                                          | - Tentukan ukuran standar (`Resize(224,224)` atau `CenterCrop`)  <br> - Kalau perbedaan proporsi ekstrem → gunakan **padding atau random crop**                 |\n",
    "| **4. Brightness (Rata-rata Luminance)**            | Mengecek pencahayaan antar kelas                      | - Kelas tertentu lebih terang/gelap dari lainnya  <br> - Model bisa bias ke pencahayaan                        | - Tambahkan augmentasi `ColorJitter` (brightness/contrast)  <br> - Gunakan histogram equalization (`cv2.equalizeHist`) sebelum training                         |\n",
    "| **5. Contrast / Saturation**                       | Menilai seberapa kuat perbedaan warna dan pencahayaan | - Gambar low contrast → detail objek tidak terlihat jelas                                                      | - Gunakan `CLAHE` atau `Contrast Limited Adaptive Histogram Equalization` untuk memperbaiki  <br> - Tambahkan augmentasi `RandomContrast`                       |\n",
    "| **6. Blur / Focus (Laplacian Variance)**           | Mengecek ketajaman / fokus gambar                     | - Beberapa gambar terlalu blur → noise tinggi, informasi rendah                                                | - Drop gambar dengan nilai focus < threshold  <br> - Atau augmentasi dengan blur acak (`GaussianBlur`) agar model robust                                        |\n",
    "| **7. Edge Density (Canny)**                        | Mengukur seberapa kompleks bentuk dalam gambar        | - Kelas dengan sedikit edge → mungkin polos (sky, sea)  <br> - Banyak edge → tekstur padat (forest, buildings) | - Pastikan model cukup dalam untuk menangkap tekstur  <br> - Bisa gunakan CNN dengan kernel kecil (3×3) atau feature extractor pretrained                       |\n",
    "| **8. Entropy (Informasi Visual)**                  | Mengukur banyaknya variasi piksel (detail informasi)  | - Entropy rendah → gambar terlalu polos (informasi sedikit)  <br> - Entropy tinggi → banyak tekstur / kompleks | - Gambar entropy rendah bisa dihapus atau diaugmentasi  <br> - Gunakan `RandomCrop` / `Noise Injection` untuk menambah variasi                                  |\n",
    "| **9. Texture Contrast (GLCM)**                     | Mengevaluasi perbedaan tekstur antar kelas            | - Kelas dengan GLCM mirip → sulit dibedakan model                                                              | - Tambahkan augmentasi tekstur seperti `RandomErasing`, `CutMix`, atau `MixUp`                                                                                  |\n",
    "| **10. Dominant Color (KMeans RGB)**                | Mengecek warna khas tiap kelas                        | - Kelas berbeda warna → mudah dibedakan model  <br> - Warna mirip → sulit dipisahkan                           | - Jika warna dominan terlalu mirip antar kelas → tambahkan augmentasi warna (hue shift)  <br> - Bisa pertimbangkan model yang lebih fokus ke bentuk (e.g., ViT) |\n",
    "| **11. PCA / t-SNE Embedding (Feature Space)**      | Menilai *separabilitas visual* antar kelas            | - Cluster antar kelas terpisah → model mudah belajar  <br> - Cluster tumpang tindih → kelas visual mirip       | - Gunakan model lebih kompleks (e.g. ResNet50 → EfficientNet)  <br> - Atau gunakan augmentasi yang menonjolkan perbedaan antar kelas                            |\n",
    "| **12. Cosine Similarity antar Centroid Fitur**     | Mengukur kemiripan antar kelas berdasarkan fitur      | - Similarity tinggi → kelas sering tertukar (misal mountain vs glacier)                                        | - Fokus augmentasi di kelas mirip  <br> - Analisis *confusion matrix* pasca-training untuk konfirmasi                                                           |\n",
    "| **13. Warna & Histogram (cv2.calcHist)**           | Melihat distribusi piksel intensitas & channel warna  | - Distribusi warna sempit → data kurang variatif                                                               | - Tambah augmentasi warna (`Hue`, `Saturation`, `Brightness`)  <br> - Atau gunakan grayscale model bila warna tidak informatif                                  |\n",
    "| **14. Outlier Check (Image Distance / Embedding)** | Cari gambar yang “tidak cocok” dengan kelasnya        | - Outlier bisa salah label atau anomali visual                                                                 | - Drop / re-label gambar tersebut agar model tidak bingung                                                                                                      |\n",
    "| **15. Per Class Statistical Summary**              | Melihat rata-rata brightness, entropy, edge per kelas | - Ada kelas sangat kompleks, ada yang sederhana                                                                | - Gunakan augmentasi berbeda per kelas (kelas simple → augment kuat)                                                                                            |\n"
   ]
  },
  {
   "cell_type": "markdown",
   "id": "d75486b6",
   "metadata": {},
   "source": []
  }
 ],
 "metadata": {
  "language_info": {
   "name": "python"
  }
 },
 "nbformat": 4,
 "nbformat_minor": 5
}
