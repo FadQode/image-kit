{
 "cells": [
  {
   "cell_type": "markdown",
   "id": "b06759af",
   "metadata": {},
   "source": [
    "#### Various Custom Image Dataset"
   ]
  },
  {
   "cell_type": "code",
   "execution_count": null,
   "id": "0f5fa94d",
   "metadata": {},
   "outputs": [],
   "source": [
    "########## Normal Image Dataset ##########\n",
    "class ImageDataset(Dataset):\n",
    "    def __init__(self, df, transform, dir_path, special_label=None,  mode=\"train\"):\n",
    "        self.df = df.reset_index()\n",
    "        self.transform = transform\n",
    "        self.dir_path = dir_path\n",
    "        self.special_label = special_label\n",
    "\n",
    "    def __len__(self):\n",
    "        return len(self.df)\n",
    "\n",
    "    def __getitem__(self, idx):\n",
    "        img_path = self.df.loc[idx, 'filename']\n",
    "        label = self.df.loc[idx, 'genus']\n",
    "        image = Image.open(os.path.join(self.dir_path, img_path)).convert(\"RGB\")\n",
    "        if self.special_label is not None :\n",
    "            if self.transform and label not in self.special_label:\n",
    "                image = self.transform[1](image)\n",
    "            else:\n",
    "                image = self.transform[0](image)\n",
    "        else:\n",
    "                image = self.transform[0](image)\n",
    "        return image, label"
   ]
  },
  {
   "cell_type": "code",
   "execution_count": null,
   "id": "93f16b23",
   "metadata": {},
   "outputs": [],
   "source": [
    "########## TIFF Image Dataset ##########\n",
    "class TifImageDataset(Dataset):\n",
    "    def __init__(self, df, img_dir, label_cols=None, transform=None, to_rgb=True, max_channels=3):\n",
    "        \"\"\"\n",
    "        Custom PyTorch dataset to handle .tif/.tiff and standard images.\n",
    "\n",
    "        Args:\n",
    "            df (pd.DataFrame): dataframe berisi nama file dan (opsional) label.\n",
    "            img_dir (str): path ke folder berisi gambar.\n",
    "            label_cols (list): kolom label di df. Jika None → hanya image.\n",
    "            transform (Compose): augmentasi/transforms torchvision.\n",
    "            to_rgb (bool): jika True, konversi ke 3 channel (RGB).\n",
    "            max_channels (int): jika multi-band, ambil n channel pertama.\n",
    "        \"\"\"\n",
    "        self.df = df.reset_index(drop=True)\n",
    "        self.img_dir = img_dir\n",
    "        self.label_cols = label_cols\n",
    "        self.transform = transform\n",
    "        self.to_rgb = to_rgb\n",
    "        self.max_channels = max_channels\n",
    "\n",
    "    def __len__(self):\n",
    "        return len(self.df)\n",
    "\n",
    "    def _load_tif_image(self, path):\n",
    "        \"\"\"Load image from TIF/TIFF with tifffile\"\"\"\n",
    "        img = tifffile.imread(path)  # np.ndarray\n",
    "\n",
    "        # Handle grayscale\n",
    "        if img.ndim == 2:\n",
    "            img = np.stack([img] * 3, axis=-1)\n",
    "\n",
    "        # Handle multiband (keep first N channels)\n",
    "        elif img.ndim == 3 and img.shape[2] > self.max_channels:\n",
    "            img = img[:, :, :self.max_channels]\n",
    "\n",
    "        # Convert to 8-bit if needed (normalize)\n",
    "        if img.dtype != np.uint8:\n",
    "            img = np.clip(img / img.max(), 0, 1)\n",
    "            img = (img * 255).astype(np.uint8)\n",
    "\n",
    "        return Image.fromarray(img)\n",
    "\n",
    "    def __getitem__(self, idx):\n",
    "        img_name = self.df.loc[idx, 'name']\n",
    "        img_path = os.path.join(self.img_dir, img_name)\n",
    "        ext = os.path.splitext(img_name)[1].lower()\n",
    "\n",
    "        # ========== Handle multiple formats (.tif, .png, .jpg) ==========\n",
    "        if ext in ['.tif', '.tiff']:\n",
    "            image = self._load_tif_image(img_path)\n",
    "        else:\n",
    "            image = Image.open(img_path).convert(\"RGB\")\n",
    "        # ================================================================\n",
    "\n",
    "        if self.transform:\n",
    "            image = self.transform(image)\n",
    "\n",
    "        if self.label_cols is not None:\n",
    "            labels = torch.tensor(self.df.loc[idx, self.label_cols].values.astype('float32'))\n",
    "            return image, labels\n",
    "\n",
    "        return image"
   ]
  },
  {
   "cell_type": "markdown",
   "id": "58d9b848",
   "metadata": {},
   "source": [
    "#### Dataset Usage"
   ]
  },
  {
   "cell_type": "code",
   "execution_count": null,
   "id": "f2f31d50",
   "metadata": {},
   "outputs": [],
   "source": [
    "train_data = ImageDataset(train_set, transform=[train_transform, minor_transform], dir_path = train_img, special_label = minor_class)\n",
    "val_data = ImageDataset(test_set, transform=[train_transform, minor_transform], dir_path = train_img)"
   ]
  },
  {
   "cell_type": "markdown",
   "id": "19762509",
   "metadata": {},
   "source": [
    "#### DataLoader"
   ]
  },
  {
   "cell_type": "markdown",
   "id": "066b142b",
   "metadata": {},
   "source": [
    "train_loader = DataLoader(train_dataset, batch_size=32, shuffle=True)\n",
    "val_loader = DataLoader(val_data, batch_size=64, shuffle=True)"
   ]
  }
 ],
 "metadata": {
  "language_info": {
   "name": "python"
  }
 },
 "nbformat": 4,
 "nbformat_minor": 5
}
