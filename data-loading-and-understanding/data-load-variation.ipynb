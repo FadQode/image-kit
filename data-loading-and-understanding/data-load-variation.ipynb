{
 "cells": [
  {
   "cell_type": "code",
   "execution_count": null,
   "id": "0fbf6b0f",
   "metadata": {},
   "outputs": [],
   "source": [
    "import pandas as pd\n",
    "import numpy as np\n",
    "import matplotlib.pyplot as plt\n",
    "import seaborn as sns\n",
    "import tifffile\n",
    "import os\n",
    "from tqdm import tqdm\n",
    "import glob\n"
   ]
  },
  {
   "cell_type": "markdown",
   "id": "6a50abde",
   "metadata": {},
   "source": [
    "#### Fleksibel Load"
   ]
  },
  {
   "cell_type": "code",
   "execution_count": null,
   "id": "7c69aefb",
   "metadata": {},
   "outputs": [],
   "source": [
    "################ Load Data\n",
    "MODE = \"folder\"  # \"folder\" atau \"csv\"\n",
    "DATA_DIR = \"data/train\"\n",
    "CSV_PATH = None  # kalau pakai CSV\n",
    "\n",
    "IMG_EXT = ['jpg', 'jpeg', 'png', 'bmp', 'tiff']\n",
    "\n",
    "def load_dataset(mode=\"folder\", data_dir=None, csv_path=None):\n",
    "    if mode == \"folder\":\n",
    "        image_paths = []\n",
    "        labels = []\n",
    "        for class_name in os.listdir(data_dir):\n",
    "            class_dir = os.path.join(data_dir, class_name)\n",
    "            if os.path.isdir(class_dir):\n",
    "                files = glob.glob(os.path.join(class_dir, \"*\"))\n",
    "                for f in files:\n",
    "                    if f.split(\".\")[-1].lower() in IMG_EXT:\n",
    "                        image_paths.append(f)\n",
    "                        labels.append(class_name)\n",
    "        df = pd.DataFrame({\"image_path\": image_paths, \"label\": labels})\n",
    "    elif mode == \"csv\":\n",
    "        df = pd.read_csv(csv_path)\n",
    "        assert all(c in df.columns for c in [\"image_path\", \"label\"]), \"CSV must contain 'image_path' and 'label'\"\n",
    "    else:\n",
    "        raise ValueError(\"mode must be 'folder' or 'csv'\")\n",
    "\n",
    "    df = df.sample(frac=1).reset_index(drop=True)\n",
    "    print(f\"✅ Loaded {len(df)} images across {df['label'].nunique()} classes.\")\n",
    "    return df"
   ]
  },
  {
   "cell_type": "code",
   "execution_count": null,
   "id": "ee6b9510",
   "metadata": {},
   "outputs": [],
   "source": [
    "########## Tabulate Data\n",
    "\n",
    "data_dir = \"intel_dataset\"\n",
    "\n",
    "rows = []\n",
    "for label in os.listdir(data_dir):\n",
    "    class_path = os.path.join(data_dir, label)\n",
    "    if os.path.isdir(class_path):\n",
    "        for img_name in os.listdir(class_path):\n",
    "            if img_name.lower().endswith(('jpg','jpeg','png')):\n",
    "                rows.append({\n",
    "                    'image_path': os.path.join(class_path, img_name),\n",
    "                    'label': label\n",
    "                })\n",
    "\n",
    "df = pd.DataFrame(rows)\n",
    "print(df.head())\n",
    "print(\"Total images:\", len(df))\n",
    "print(df['label'].value_counts())\n"
   ]
  },
  {
   "cell_type": "markdown",
   "id": "1d55d6a3",
   "metadata": {},
   "source": [
    "#### Data Understanding\n",
    "\n",
    "\n"
   ]
  },
  {
   "cell_type": "code",
   "execution_count": null,
   "id": "37493fca",
   "metadata": {},
   "outputs": [],
   "source": [
    "############# Show Sample\n",
    "\n",
    "def show_samples(df, n_per_class=3):\n",
    "    classes = df['label'].unique()\n",
    "    for cls in classes:\n",
    "        subset = df[df['label'] == cls].sample(min(n_per_class, len(df[df['label'] == cls])))\n",
    "        plt.figure(figsize=(n_per_class * 2, 2))\n",
    "        for i, (_, row) in enumerate(subset.iterrows()):\n",
    "            img = Image.open(row['image_path'])\n",
    "            plt.subplot(1, n_per_class, i + 1)\n",
    "            plt.imshow(img)\n",
    "            plt.axis('off')\n",
    "            plt.title(cls)\n",
    "        plt.tight_layout()\n",
    "        plt.show()\n",
    "\n",
    "show_samples(df)\n",
    "        \n",
    "show_samples(df_train, data_dir = train_img)"
   ]
  },
  {
   "cell_type": "code",
   "execution_count": null,
   "id": "697a76b6",
   "metadata": {},
   "outputs": [],
   "source": [
    "############# Analyze Image Sizes\n",
    "\n",
    "widths, heights, ratios = [], [], []\n",
    "for path in tqdm(df['image_path'], desc=\"Analyzing image sizes\"):\n",
    "    try:\n",
    "        with Image.open(path) as img:\n",
    "            w, h = img.size\n",
    "            widths.append(w)\n",
    "            heights.append(h)\n",
    "            ratios.append(w / h)\n",
    "    except:\n",
    "        widths.append(None)\n",
    "        heights.append(None)\n",
    "        ratios.append(None)\n",
    "\n",
    "df['width'] = widths\n",
    "df['height'] = heights\n",
    "df['aspect_ratio'] = ratios\n",
    "\n",
    "print(df[['width','height','aspect_ratio']].describe())\n",
    "\n",
    "# Plot image size distribution\n",
    "fig, axes = plt.subplots(1, 2, figsize=(12,4))\n",
    "sns.histplot(df['width'], ax=axes[0], kde=True, bins=30)\n",
    "sns.histplot(df['height'], ax=axes[1], kde=True, bins=30)\n",
    "axes[0].set_title(\"Image Width Distribution\")\n",
    "axes[1].set_title(\"Image Height Distribution\")\n",
    "plt.show()\n",
    "\n",
    "sns.histplot(df['aspect_ratio'], kde=True, bins=30)\n",
    "plt.title(\"Aspect Ratio Distribution (W/H)\")\n",
    "plt.show()"
   ]
  },
  {
   "cell_type": "markdown",
   "id": "e9c334de",
   "metadata": {},
   "source": [
    "#### Tiff File"
   ]
  },
  {
   "cell_type": "code",
   "execution_count": null,
   "id": "4252516b",
   "metadata": {},
   "outputs": [],
   "source": [
    "## #pip install --force-reinstall \"tifffile==2024.8.30\"\n",
    "#pip install --force-reinstall \"imagecodecs\"\n",
    "def show_samples(df, data_dir, n_per_class=5, image_paths=\"filename\", labels=\"genus\"):\n",
    "    subset = df.sample(min(n_per_class, len(df)))\n",
    "    plt.figure(figsize=(n_per_class * 2, 2))\n",
    "\n",
    "    for i, (_, row) in enumerate(subset.iterrows()):\n",
    "        img_path = os.path.join(data_dir, row[image_paths])\n",
    "        try:\n",
    "            img_array = tifffile.imread(img_path)\n",
    "        except Exception:\n",
    "            img = Image.open(img_path).convert(\"RGB\")\n",
    "            img_array = np.array(img)\n",
    "\n",
    "        if img_array.ndim == 2:\n",
    "            img_array = np.stack([img_array]*3, axis=-1)\n",
    "        elif img_array.ndim == 3 and img_array.shape[2] > 3:\n",
    "            img_array = img_array[:, :, :3]\n",
    "        img_display = img_array[..., :3] / np.max(img_array)\n",
    "        plt.subplot(1, n_per_class, i + 1)\n",
    "        plt.imshow(img_display)\n",
    "        plt.axis('off')\n",
    "    plt.tight_layout()\n",
    "    plt.show()\n",
    "    \n",
    "import imagecodecs\n",
    "import tifffile\n",
    "\n",
    "print(\"tifffile:\", tifffile.__version__)\n",
    "print(\"imagecodecs:\", imagecodecs.__version__)\n",
    "\n",
    "show_samples(df_train, data_dir = image_folder, image_paths = \"name\")"
   ]
  },
  {
   "cell_type": "code",
   "execution_count": null,
   "id": "52df4539",
   "metadata": {},
   "outputs": [],
   "source": []
  }
 ],
 "metadata": {
  "kernelspec": {
   "display_name": "ds-kit",
   "language": "python",
   "name": "python3"
  },
  "language_info": {
   "name": "python",
   "version": "3.11.13"
  }
 },
 "nbformat": 4,
 "nbformat_minor": 5
}
