{
 "cells": [
  {
   "cell_type": "markdown",
   "id": "621fa20b",
   "metadata": {},
   "source": [
    "#### Testing Pipeline"
   ]
  },
  {
   "cell_type": "code",
   "execution_count": null,
   "id": "38e57f1a",
   "metadata": {},
   "outputs": [],
   "source": [
    "test_image = \"dataset/images/test\"\n",
    "test_csv = \"dataset/test.csv\"\n",
    "\n",
    "test_df = pd.read_csv(test_csv)\n",
    "\n",
    "class TestDataset(Dataset):\n",
    "    def __init__(self, df, transform, dir_path):\n",
    "        self.df = df.reset_index()\n",
    "        self.transform = transform\n",
    "        self.dir_path = dir_path\n",
    "\n",
    "\n",
    "    def __len__(self):\n",
    "        return len(self.df)\n",
    "\n",
    "    def __getitem__(self, idx):\n",
    "        img_path = self.df.loc[idx, 'filename']\n",
    "        image = Image.open(os.path.join(self.dir_path, img_path)).convert(\"RGB\")\n",
    "        image = self.transform(image)\n",
    "        return image"
   ]
  },
  {
   "cell_type": "code",
   "execution_count": null,
   "id": "f014a59c",
   "metadata": {},
   "outputs": [],
   "source": [
    "test_data = TestDataset(test_df, transform = train_transform, dir_path = test_image)"
   ]
  },
  {
   "cell_type": "code",
   "execution_count": null,
   "id": "25833dcb",
   "metadata": {},
   "outputs": [],
   "source": [
    "test_loader = DataLoader(test_data)"
   ]
  },
  {
   "cell_type": "code",
   "execution_count": null,
   "id": "6871166d",
   "metadata": {},
   "outputs": [],
   "source": [
    "pred = []\n",
    "\n",
    "model.to(device)\n",
    "with torch.no_grad():\n",
    "    for images in tqdm(test_loader, desc=\"Testing\"):\n",
    "        images = images.to(device)\n",
    "        outputs = model(images)\n",
    "        _, preds = torch.max(outputs, 1)\n",
    "        pred.append(int(preds.item()))\n",
    "\n",
    "\n"
   ]
  }
 ],
 "metadata": {
  "language_info": {
   "name": "python"
  }
 },
 "nbformat": 4,
 "nbformat_minor": 5
}
