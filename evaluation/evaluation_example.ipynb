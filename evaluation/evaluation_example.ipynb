{
 "cells": [
  {
   "cell_type": "markdown",
   "id": "621fa20b",
   "metadata": {},
   "source": [
    "#### Testing Pipeline"
   ]
  },
  {
   "cell_type": "code",
   "execution_count": null,
   "id": "38e57f1a",
   "metadata": {},
   "outputs": [],
   "source": [
    "test_image = \"dataset/images/test\"\n",
    "test_csv = \"dataset/test.csv\"\n",
    "\n",
    "test_df = pd.read_csv(test_csv)\n",
    "\n",
    "class TestDataset(Dataset):\n",
    "    def __init__(self, df, transform, dir_path):\n",
    "        self.df = df.reset_index()\n",
    "        self.transform = transform\n",
    "        self.dir_path = dir_path\n",
    "\n",
    "\n",
    "    def __len__(self):\n",
    "        return len(self.df)\n",
    "\n",
    "    def __getitem__(self, idx):\n",
    "        img_path = self.df.loc[idx, 'filename']\n",
    "        image = Image.open(os.path.join(self.dir_path, img_path)).convert(\"RGB\")\n",
    "        image = self.transform(image)\n",
    "        return image"
   ]
  },
  {
   "cell_type": "code",
   "execution_count": null,
   "id": "f014a59c",
   "metadata": {},
   "outputs": [],
   "source": [
    "test_data = TestDataset(test_df, transform = train_transform, dir_path = test_image)"
   ]
  },
  {
   "cell_type": "code",
   "execution_count": null,
   "id": "25833dcb",
   "metadata": {},
   "outputs": [],
   "source": [
    "test_loader = DataLoader(test_data)"
   ]
  },
  {
   "cell_type": "code",
   "execution_count": null,
   "id": "6871166d",
   "metadata": {},
   "outputs": [],
   "source": [
    "pred = []\n",
    "\n",
    "model.to(device)\n",
    "with torch.no_grad():\n",
    "    for images in tqdm(test_loader, desc=\"Testing\"):\n",
    "        images = images.to(device)\n",
    "        outputs = model(images)\n",
    "        _, preds = torch.max(outputs, 1)\n",
    "        pred.append(int(preds.item()))\n",
    "\n",
    "\n"
   ]
  },
  {
   "cell_type": "markdown",
   "id": "a1cca209",
   "metadata": {},
   "source": [
    "#### ROC-AUC Test"
   ]
  },
  {
   "cell_type": "code",
   "execution_count": null,
   "id": "609879f7",
   "metadata": {},
   "outputs": [],
   "source": [
    "from sklearn.metrics import roc_auc_score, roc_curve, accuracy_score, classification_report\n",
    "from sklearn.model_selection import train_test_split\n",
    "from sklearn.ensemble import RandomForestClassifier\n",
    "\n",
    "# contoh data binary\n",
    "X_train, X_test, y_train, y_test = train_test_split(X, y, test_size=0.2, random_state=42)\n",
    "\n",
    "model = RandomForestClassifier()\n",
    "model.fit(X_train, y_train)\n",
    "\n",
    "y_pred = model.predict(X_test)\n",
    "y_pred_proba = model.predict_proba(X_test)[:, 1]  # probabilitas kelas positif\n"
   ]
  },
  {
   "cell_type": "code",
   "execution_count": null,
   "id": "5fb13a0b",
   "metadata": {},
   "outputs": [],
   "source": [
    "from sklearn.metrics import roc_auc_score, roc_curve\n",
    "import torch\n",
    "import numpy as np\n",
    "import matplotlib.pyplot as plt\n",
    "\n",
    "model.eval()\n",
    "y_true, y_prob, y_pred = [], []\n",
    "\n",
    "with torch.no_grad():\n",
    "    for images, labels in val_loader:\n",
    "        images, labels = images.to(device), labels.to(device)\n",
    "\n",
    "        outputs = model(images)              # (batch, 1) jika pakai sigmoid\n",
    "        probs = torch.sigmoid(outputs)       # pastikan dalam range [0,1]\n",
    "\n",
    "        y_true.extend(labels.cpu().numpy())\n",
    "        y_prob.extend(probs.cpu().numpy())\n",
    "\n",
    "y_true = np.array(y_true).flatten()\n",
    "y_prob = np.array(y_prob).flatten()\n",
    "\n",
    "auc = roc_auc_score(y_true, y_prob)\n",
    "print(f\"ROC-AUC: {auc:.4f}\")\n",
    "\n",
    "# ROC curve\n",
    "fpr, tpr, _ = roc_curve(y_true, y_prob)\n",
    "plt.plot(fpr, tpr, label=f\"AUC = {auc:.3f}\")\n",
    "plt.plot([0,1], [0,1], '--', color='gray')\n",
    "plt.xlabel(\"False Positive Rate\")\n",
    "plt.ylabel(\"True Positive Rate\")\n",
    "plt.title(\"ROC Curve\")\n",
    "plt.legend()\n",
    "plt.show()\n"
   ]
  }
 ],
 "metadata": {
  "language_info": {
   "name": "python"
  }
 },
 "nbformat": 4,
 "nbformat_minor": 5
}
